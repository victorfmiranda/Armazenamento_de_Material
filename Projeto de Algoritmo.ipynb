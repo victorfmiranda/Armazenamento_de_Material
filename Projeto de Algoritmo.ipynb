{
  "cells": [
    {
      "metadata": {},
      "cell_type": "markdown",
      "source": "<h1> Projeto de para armazenamento de materiais industriais </h1>"
    },
    {
      "metadata": {},
      "cell_type": "markdown",
      "source": "Nos dias de hoje o tempo é uma das variáveis mais importante que existem para qualquer negócio funcionar bem. Porque é nela\nque que 100% das empresas se basea para sobreviver. Nesse pontos as empresas estão sempre tentando economizar tempos em geral, exemplos: tempo de entrega rádipido, velocidade em executar tarefas, tempo em organizar e planejar serviços, tempo de espera mínimo e outros. Portanto executar a qualquer atividade com menos tempo possível e efetivo é a chave de qualquer negócio, porque isso irá gera lucro final, satisfação do cliente e consequentimente uma satisfação do dono ou empregado. <p>\nNas industrias siderurgicas não é diferente, dentro dessas megas empresas o controle de materiais e equipamento tem que ser até muitas das vezes mais rigoroso. A falta ou escesso desses materiais muita das vezes são prejudiciais a empresa. Imagina-se comprar uma peça de 100000 reais errada 10 vezes ? ou precisa de uma 3 peças para executar uma atividade crítica e você só tem 1 ? Ou você compra uma peça de valor 200000 em emergência porque não tinha a peça em estoque sendo que o valor da mesma é de 50000 ? Essas são situações que não desejamos na industrias de jeito nenhum, porque isso gera perdas que as vezes são irreparáveis. Então oque precisamos para tentar amenizar esses problemas ? Será necessário criar um controle de estoque <p>\nUm controle de estoque é uma ferramenta aonde um funcionário (Almoxarife) irá controlar, inspecionar e requistar todos os itens de um almoxarifado isso tudo de acordo com uma lista pré definida com quantidade de modelos de equipamentos. Para executarmos essa atividade é necessário um conhecimento básico sobre o almoxarifado em questão e realizar um banco de dados para sabermos quais equipamento iremos ter que ter estocados. <p> Em nosso projeto iremos construir um programa que irá realizar o armazenamento e controle de materias de um almoxarifado industrial, tal que poderemos ter um ganho de proatividade e tempo na execução do serviço e no planejamento do serviço.  "
    },
    {
      "metadata": {},
      "cell_type": "markdown",
      "source": "<h2> Escopo </h2>"
    },
    {
      "metadata": {},
      "cell_type": "markdown",
      "source": "<b>1</b> - Aprender sobre manipulação de dados no python com excel <br>\n<b>2</b> - Criação de um banco de dados mínimo e criação de um programa para manipualar essas variáveis <br>\n<b>3</b> - Montagem do programa principal e do banco de dados principal <br>\n<b>4</b> - Realizar testes funcionais simulados ( Incluir, apagar, pesquisar e outros ) <br>\n<b>5</b> - Realizar testes reais <br>"
    },
    {
      "metadata": {},
      "cell_type": "markdown",
      "source": "<img src=\"http://www.indike.com.br/wp-content/uploads/2016/06/excel-logo.png\"><img src=\"https://upload.wikimedia.org/wikipedia/commons/c/c3/Python-logo-notext.svg\">"
    },
    {
      "metadata": {
        "trusted": true
      },
      "cell_type": "code",
      "source": "!pip install xlrd\n!pip install xlwt",
      "execution_count": null,
      "outputs": []
    },
    {
      "metadata": {
        "trusted": true
      },
      "cell_type": "code",
      "source": "import xlrd\nimport xlwt",
      "execution_count": null,
      "outputs": []
    },
    {
      "metadata": {
        "trusted": true
      },
      "cell_type": "code",
      "source": "book = xlrd.open_workbook(\"teste_1_rev1.xlsx\")\nsh = book.sheet_by_index(0)\nprint(\"Valor da célula é: \", sh.cell_value(rowx=0, colx=0))\nsh1 = book.sheet_by_index(1)\nprint(\"Valor da célula é: \", sh1.cell_value(rowx=0, colx=0))\nprint(\"Valor da célula é: \", sh2.cell_value(rowx=0, colx=0))\nsh3 = book.sheet_by_index(3)\nprint(\"Valor da célula é: \", sh3.cell_value(rowx=0, colx=0))",
      "execution_count": null,
      "outputs": []
    },
    {
      "metadata": {
        "trusted": true
      },
      "cell_type": "code",
      "source": "!pip install openpyxl",
      "execution_count": null,
      "outputs": []
    },
    {
      "metadata": {
        "trusted": true
      },
      "cell_type": "code",
      "source": "import openpyxl",
      "execution_count": null,
      "outputs": []
    },
    {
      "metadata": {
        "trusted": true
      },
      "cell_type": "code",
      "source": "wb =openpyxl.load_workbook ('teste_1_rev1.xlsx')",
      "execution_count": null,
      "outputs": []
    },
    {
      "metadata": {
        "trusted": true
      },
      "cell_type": "code",
      "source": "wb.get_sheet_names()",
      "execution_count": null,
      "outputs": []
    },
    {
      "metadata": {
        "trusted": true
      },
      "cell_type": "code",
      "source": "sheet=wb.get_sheet_by_name('Parafusos Porcas Arruelas')",
      "execution_count": null,
      "outputs": []
    },
    {
      "metadata": {
        "trusted": true
      },
      "cell_type": "code",
      "source": "print(sheet)",
      "execution_count": null,
      "outputs": []
    },
    {
      "metadata": {
        "trusted": true
      },
      "cell_type": "code",
      "source": "sheet['A1'].value",
      "execution_count": null,
      "outputs": []
    },
    {
      "metadata": {
        "trusted": true
      },
      "cell_type": "code",
      "source": "c = sheet['A1']",
      "execution_count": null,
      "outputs": []
    },
    {
      "metadata": {
        "trusted": true
      },
      "cell_type": "code",
      "source": "\"A celula A1 esta na linha \" +str(c.row)+ \" e coluna \" +str(c.column)",
      "execution_count": null,
      "outputs": []
    },
    {
      "metadata": {
        "trusted": true
      },
      "cell_type": "code",
      "source": "import pandas as pd\nimport numpy as np\nimport matplotlib.pyplot as plt\n%matplotlib inline",
      "execution_count": null,
      "outputs": []
    },
    {
      "metadata": {
        "trusted": true
      },
      "cell_type": "code",
      "source": "notas = pd.Series([2,7,5,10,6])",
      "execution_count": null,
      "outputs": []
    },
    {
      "metadata": {
        "trusted": true
      },
      "cell_type": "code",
      "source": "notas",
      "execution_count": null,
      "outputs": []
    },
    {
      "metadata": {
        "trusted": true
      },
      "cell_type": "code",
      "source": "notas.values",
      "execution_count": null,
      "outputs": []
    },
    {
      "metadata": {
        "trusted": true
      },
      "cell_type": "code",
      "source": "notas.index",
      "execution_count": null,
      "outputs": []
    },
    {
      "metadata": {
        "trusted": true
      },
      "cell_type": "code",
      "source": "notas = pd.Series([2,7,5,10,6], index=[\"Wilfred\", \"Abbie\", \"Harry\", \"Julia\", \"Carrie\"])",
      "execution_count": null,
      "outputs": []
    },
    {
      "metadata": {
        "trusted": true
      },
      "cell_type": "code",
      "source": "notas",
      "execution_count": null,
      "outputs": []
    },
    {
      "metadata": {
        "trusted": true
      },
      "cell_type": "code",
      "source": "notas = pd.Series([2,7,5,10,6])\nnotas = pd.Series([2,7,5,10,6], index=[\"Wilfred\", \"Abbie\", \"Harry\", \"Julia\", \"Carrie\"])\nprint(\"Media:\", notas.mean())\nprint(\"Desvio Padrao: \", notas.std())",
      "execution_count": null,
      "outputs": []
    },
    {
      "metadata": {
        "trusted": true
      },
      "cell_type": "code",
      "source": "notas.describe()",
      "execution_count": null,
      "outputs": []
    },
    {
      "metadata": {
        "trusted": true
      },
      "cell_type": "code",
      "source": "notas**2",
      "execution_count": null,
      "outputs": []
    },
    {
      "metadata": {
        "trusted": true
      },
      "cell_type": "code",
      "source": "notas*2",
      "execution_count": null,
      "outputs": []
    },
    {
      "metadata": {
        "trusted": true
      },
      "cell_type": "code",
      "source": "np.log(notas)",
      "execution_count": null,
      "outputs": []
    },
    {
      "metadata": {
        "trusted": true
      },
      "cell_type": "code",
      "source": "df=pd.DataFrame({'Aluno':['Wilfred','Abbie','Harry','Julia','Carrie'], 'Faltas' : [3,4,2,1,4], 'Prova' : [2,7,5,10,6], 'Seminario' :[8.5,7.5,9.0,7.5,8.0]})",
      "execution_count": null,
      "outputs": []
    },
    {
      "metadata": {
        "trusted": true
      },
      "cell_type": "code",
      "source": "df",
      "execution_count": null,
      "outputs": []
    },
    {
      "metadata": {
        "trusted": true
      },
      "cell_type": "code",
      "source": "df.dtypes",
      "execution_count": null,
      "outputs": []
    },
    {
      "metadata": {
        "trusted": true
      },
      "cell_type": "code",
      "source": "df.columns\n",
      "execution_count": null,
      "outputs": []
    },
    {
      "metadata": {
        "trusted": true
      },
      "cell_type": "code",
      "source": "df[\"Seminario\"]",
      "execution_count": null,
      "outputs": []
    },
    {
      "metadata": {
        "trusted": true
      },
      "cell_type": "code",
      "source": "df.describe()",
      "execution_count": null,
      "outputs": []
    },
    {
      "metadata": {
        "trusted": true
      },
      "cell_type": "code",
      "source": "df.sort_values(by=\"Seminario\")",
      "execution_count": null,
      "outputs": []
    },
    {
      "metadata": {
        "trusted": true
      },
      "cell_type": "code",
      "source": "df.sort_values(by=\"Prova\")",
      "execution_count": null,
      "outputs": []
    },
    {
      "metadata": {
        "trusted": true
      },
      "cell_type": "code",
      "source": "df",
      "execution_count": null,
      "outputs": []
    },
    {
      "metadata": {
        "trusted": true
      },
      "cell_type": "code",
      "source": "df.loc[3]",
      "execution_count": null,
      "outputs": []
    },
    {
      "metadata": {
        "trusted": true
      },
      "cell_type": "code",
      "source": "df.loc[4]",
      "execution_count": null,
      "outputs": []
    },
    {
      "metadata": {
        "trusted": true
      },
      "cell_type": "code",
      "source": "df[df[\"Seminario\"] > 8]",
      "execution_count": null,
      "outputs": []
    },
    {
      "metadata": {
        "trusted": true
      },
      "cell_type": "code",
      "source": "df[(df[\"Seminario\"]>8) & (df[\"Prova\"]>3)]",
      "execution_count": null,
      "outputs": []
    },
    {
      "metadata": {
        "trusted": true
      },
      "cell_type": "code",
      "source": "import pandas as pd\nimport numpy as np\nimport matplotlib.pyplot as plt\n%matplotlib inline",
      "execution_count": 21,
      "outputs": []
    },
    {
      "metadata": {
        "trusted": true
      },
      "cell_type": "code",
      "source": "df=pd.read_csv(\"dados.csv\")",
      "execution_count": 3,
      "outputs": []
    },
    {
      "metadata": {
        "trusted": true
      },
      "cell_type": "code",
      "source": "df",
      "execution_count": 4,
      "outputs": [
        {
          "output_type": "execute_result",
          "execution_count": 4,
          "data": {
            "text/html": "<div>\n<style scoped>\n    .dataframe tbody tr th:only-of-type {\n        vertical-align: middle;\n    }\n\n    .dataframe tbody tr th {\n        vertical-align: top;\n    }\n\n    .dataframe thead th {\n        text-align: right;\n    }\n</style>\n<table border=\"1\" class=\"dataframe\">\n  <thead>\n    <tr style=\"text-align: right;\">\n      <th></th>\n      <th>condominio</th>\n      <th>quartos</th>\n      <th>suites</th>\n      <th>vagas</th>\n      <th>area</th>\n      <th>bairro</th>\n      <th>preco</th>\n      <th>pm2</th>\n    </tr>\n  </thead>\n  <tbody>\n    <tr>\n      <th>0</th>\n      <td>350</td>\n      <td>1</td>\n      <td>0.0</td>\n      <td>1.0</td>\n      <td>21</td>\n      <td>Botafogo</td>\n      <td>340000</td>\n      <td>16190.48</td>\n    </tr>\n    <tr>\n      <th>1</th>\n      <td>800</td>\n      <td>1</td>\n      <td>0.0</td>\n      <td>1.0</td>\n      <td>64</td>\n      <td>Botafogo</td>\n      <td>770000</td>\n      <td>12031.25</td>\n    </tr>\n    <tr>\n      <th>2</th>\n      <td>674</td>\n      <td>1</td>\n      <td>0.0</td>\n      <td>1.0</td>\n      <td>61</td>\n      <td>Botafogo</td>\n      <td>600000</td>\n      <td>9836.07</td>\n    </tr>\n    <tr>\n      <th>3</th>\n      <td>700</td>\n      <td>1</td>\n      <td>1.0</td>\n      <td>1.0</td>\n      <td>70</td>\n      <td>Botafogo</td>\n      <td>700000</td>\n      <td>10000.00</td>\n    </tr>\n    <tr>\n      <th>4</th>\n      <td>440</td>\n      <td>1</td>\n      <td>0.0</td>\n      <td>1.0</td>\n      <td>44</td>\n      <td>Botafogo</td>\n      <td>515000</td>\n      <td>11704.55</td>\n    </tr>\n    <tr>\n      <th>5</th>\n      <td>917</td>\n      <td>1</td>\n      <td>1.0</td>\n      <td>1.0</td>\n      <td>60</td>\n      <td>Botafogo</td>\n      <td>630000</td>\n      <td>10500.00</td>\n    </tr>\n    <tr>\n      <th>6</th>\n      <td>850</td>\n      <td>1</td>\n      <td>1.0</td>\n      <td>1.0</td>\n      <td>65</td>\n      <td>Botafogo</td>\n      <td>740000</td>\n      <td>11384.62</td>\n    </tr>\n    <tr>\n      <th>7</th>\n      <td>350</td>\n      <td>1</td>\n      <td>1.0</td>\n      <td>1.0</td>\n      <td>43</td>\n      <td>Botafogo</td>\n      <td>570000</td>\n      <td>13255.81</td>\n    </tr>\n    <tr>\n      <th>8</th>\n      <td>440</td>\n      <td>1</td>\n      <td>1.0</td>\n      <td>1.0</td>\n      <td>26</td>\n      <td>Botafogo</td>\n      <td>430000</td>\n      <td>16538.46</td>\n    </tr>\n    <tr>\n      <th>9</th>\n      <td>510</td>\n      <td>1</td>\n      <td>1.0</td>\n      <td>1.0</td>\n      <td>42</td>\n      <td>Botafogo</td>\n      <td>500000</td>\n      <td>11904.76</td>\n    </tr>\n    <tr>\n      <th>10</th>\n      <td>200</td>\n      <td>1</td>\n      <td>0.0</td>\n      <td>1.0</td>\n      <td>35</td>\n      <td>Botafogo</td>\n      <td>500000</td>\n      <td>14285.71</td>\n    </tr>\n    <tr>\n      <th>11</th>\n      <td>552</td>\n      <td>1</td>\n      <td>1.0</td>\n      <td>1.0</td>\n      <td>67</td>\n      <td>Botafogo</td>\n      <td>790000</td>\n      <td>11791.04</td>\n    </tr>\n    <tr>\n      <th>12</th>\n      <td>495</td>\n      <td>1</td>\n      <td>1.0</td>\n      <td>1.0</td>\n      <td>54</td>\n      <td>Botafogo</td>\n      <td>515000</td>\n      <td>9537.04</td>\n    </tr>\n    <tr>\n      <th>13</th>\n      <td>340</td>\n      <td>1</td>\n      <td>1.0</td>\n      <td>1.0</td>\n      <td>40</td>\n      <td>Botafogo</td>\n      <td>410000</td>\n      <td>10250.00</td>\n    </tr>\n    <tr>\n      <th>14</th>\n      <td>800</td>\n      <td>1</td>\n      <td>1.0</td>\n      <td>1.0</td>\n      <td>60</td>\n      <td>Botafogo</td>\n      <td>625000</td>\n      <td>10416.67</td>\n    </tr>\n    <tr>\n      <th>15</th>\n      <td>530</td>\n      <td>1</td>\n      <td>0.0</td>\n      <td>1.0</td>\n      <td>40</td>\n      <td>Botafogo</td>\n      <td>360000</td>\n      <td>9000.00</td>\n    </tr>\n    <tr>\n      <th>16</th>\n      <td>500</td>\n      <td>1</td>\n      <td>0.0</td>\n      <td>1.0</td>\n      <td>47</td>\n      <td>Botafogo</td>\n      <td>670000</td>\n      <td>14255.32</td>\n    </tr>\n    <tr>\n      <th>17</th>\n      <td>600</td>\n      <td>1</td>\n      <td>1.0</td>\n      <td>1.0</td>\n      <td>45</td>\n      <td>Botafogo</td>\n      <td>500000</td>\n      <td>11111.11</td>\n    </tr>\n    <tr>\n      <th>18</th>\n      <td>465</td>\n      <td>1</td>\n      <td>0.0</td>\n      <td>1.0</td>\n      <td>50</td>\n      <td>Botafogo</td>\n      <td>570000</td>\n      <td>11400.00</td>\n    </tr>\n    <tr>\n      <th>19</th>\n      <td>1400</td>\n      <td>1</td>\n      <td>1.0</td>\n      <td>1.0</td>\n      <td>50</td>\n      <td>Botafogo</td>\n      <td>570000</td>\n      <td>11400.00</td>\n    </tr>\n    <tr>\n      <th>20</th>\n      <td>700</td>\n      <td>1</td>\n      <td>1.0</td>\n      <td>1.0</td>\n      <td>58</td>\n      <td>Botafogo</td>\n      <td>630000</td>\n      <td>10862.07</td>\n    </tr>\n    <tr>\n      <th>21</th>\n      <td>250</td>\n      <td>1</td>\n      <td>0.0</td>\n      <td>1.0</td>\n      <td>40</td>\n      <td>Botafogo</td>\n      <td>400000</td>\n      <td>10000.00</td>\n    </tr>\n    <tr>\n      <th>22</th>\n      <td>1000</td>\n      <td>1</td>\n      <td>1.0</td>\n      <td>1.0</td>\n      <td>54</td>\n      <td>Botafogo</td>\n      <td>750000</td>\n      <td>13888.89</td>\n    </tr>\n    <tr>\n      <th>23</th>\n      <td>280</td>\n      <td>1</td>\n      <td>0.0</td>\n      <td>1.0</td>\n      <td>65</td>\n      <td>Botafogo</td>\n      <td>578000</td>\n      <td>8892.31</td>\n    </tr>\n    <tr>\n      <th>24</th>\n      <td>481</td>\n      <td>1</td>\n      <td>1.0</td>\n      <td>1.0</td>\n      <td>28</td>\n      <td>Botafogo</td>\n      <td>350000</td>\n      <td>12500.00</td>\n    </tr>\n    <tr>\n      <th>25</th>\n      <td>150</td>\n      <td>1</td>\n      <td>0.0</td>\n      <td>1.0</td>\n      <td>40</td>\n      <td>Botafogo</td>\n      <td>130000</td>\n      <td>3250.00</td>\n    </tr>\n    <tr>\n      <th>26</th>\n      <td>1071</td>\n      <td>1</td>\n      <td>1.0</td>\n      <td>1.0</td>\n      <td>44</td>\n      <td>Botafogo</td>\n      <td>597000</td>\n      <td>13568.18</td>\n    </tr>\n    <tr>\n      <th>27</th>\n      <td>750</td>\n      <td>2</td>\n      <td>1.0</td>\n      <td>1.0</td>\n      <td>70</td>\n      <td>Botafogo</td>\n      <td>995000</td>\n      <td>14214.29</td>\n    </tr>\n    <tr>\n      <th>28</th>\n      <td>992</td>\n      <td>2</td>\n      <td>1.0</td>\n      <td>1.0</td>\n      <td>105</td>\n      <td>Botafogo</td>\n      <td>1150000</td>\n      <td>10952.38</td>\n    </tr>\n    <tr>\n      <th>29</th>\n      <td>990</td>\n      <td>2</td>\n      <td>1.0</td>\n      <td>1.0</td>\n      <td>100</td>\n      <td>Botafogo</td>\n      <td>1200000</td>\n      <td>12000.00</td>\n    </tr>\n    <tr>\n      <th>...</th>\n      <td>...</td>\n      <td>...</td>\n      <td>...</td>\n      <td>...</td>\n      <td>...</td>\n      <td>...</td>\n      <td>...</td>\n      <td>...</td>\n    </tr>\n    <tr>\n      <th>1967</th>\n      <td>600</td>\n      <td>3</td>\n      <td>1.0</td>\n      <td>1.0</td>\n      <td>99</td>\n      <td>Tijuca</td>\n      <td>780000</td>\n      <td>7878.79</td>\n    </tr>\n    <tr>\n      <th>1968</th>\n      <td>780</td>\n      <td>3</td>\n      <td>1.0</td>\n      <td>1.0</td>\n      <td>120</td>\n      <td>Tijuca</td>\n      <td>780000</td>\n      <td>6500.00</td>\n    </tr>\n    <tr>\n      <th>1969</th>\n      <td>1068</td>\n      <td>3</td>\n      <td>1.0</td>\n      <td>1.0</td>\n      <td>95</td>\n      <td>Tijuca</td>\n      <td>795000</td>\n      <td>8368.42</td>\n    </tr>\n    <tr>\n      <th>1970</th>\n      <td>900</td>\n      <td>3</td>\n      <td>1.0</td>\n      <td>1.0</td>\n      <td>92</td>\n      <td>Tijuca</td>\n      <td>680000</td>\n      <td>7391.30</td>\n    </tr>\n    <tr>\n      <th>1971</th>\n      <td>480</td>\n      <td>3</td>\n      <td>1.0</td>\n      <td>3.0</td>\n      <td>142</td>\n      <td>Tijuca</td>\n      <td>600000</td>\n      <td>4225.35</td>\n    </tr>\n    <tr>\n      <th>1972</th>\n      <td>588</td>\n      <td>3</td>\n      <td>1.0</td>\n      <td>1.0</td>\n      <td>98</td>\n      <td>Tijuca</td>\n      <td>1100000</td>\n      <td>11224.49</td>\n    </tr>\n    <tr>\n      <th>1973</th>\n      <td>210</td>\n      <td>3</td>\n      <td>1.0</td>\n      <td>1.0</td>\n      <td>95</td>\n      <td>Tijuca</td>\n      <td>440000</td>\n      <td>4631.58</td>\n    </tr>\n    <tr>\n      <th>1974</th>\n      <td>1370</td>\n      <td>3</td>\n      <td>1.0</td>\n      <td>2.0</td>\n      <td>130</td>\n      <td>Tijuca</td>\n      <td>1050000</td>\n      <td>8076.92</td>\n    </tr>\n    <tr>\n      <th>1975</th>\n      <td>500</td>\n      <td>3</td>\n      <td>1.0</td>\n      <td>1.0</td>\n      <td>102</td>\n      <td>Tijuca</td>\n      <td>955000</td>\n      <td>9362.75</td>\n    </tr>\n    <tr>\n      <th>1976</th>\n      <td>670</td>\n      <td>3</td>\n      <td>2.0</td>\n      <td>1.0</td>\n      <td>139</td>\n      <td>Tijuca</td>\n      <td>878000</td>\n      <td>6316.55</td>\n    </tr>\n    <tr>\n      <th>1977</th>\n      <td>730</td>\n      <td>3</td>\n      <td>0.0</td>\n      <td>1.0</td>\n      <td>90</td>\n      <td>Tijuca</td>\n      <td>550000</td>\n      <td>6111.11</td>\n    </tr>\n    <tr>\n      <th>1978</th>\n      <td>1000</td>\n      <td>3</td>\n      <td>1.0</td>\n      <td>2.0</td>\n      <td>125</td>\n      <td>Tijuca</td>\n      <td>825000</td>\n      <td>6600.00</td>\n    </tr>\n    <tr>\n      <th>1979</th>\n      <td>1050</td>\n      <td>3</td>\n      <td>1.0</td>\n      <td>2.0</td>\n      <td>95</td>\n      <td>Tijuca</td>\n      <td>899000</td>\n      <td>9463.16</td>\n    </tr>\n    <tr>\n      <th>1980</th>\n      <td>1100</td>\n      <td>3</td>\n      <td>1.0</td>\n      <td>2.0</td>\n      <td>110</td>\n      <td>Tijuca</td>\n      <td>850000</td>\n      <td>7727.27</td>\n    </tr>\n    <tr>\n      <th>1981</th>\n      <td>850</td>\n      <td>3</td>\n      <td>1.0</td>\n      <td>2.0</td>\n      <td>118</td>\n      <td>Tijuca</td>\n      <td>850000</td>\n      <td>7203.39</td>\n    </tr>\n    <tr>\n      <th>1982</th>\n      <td>1100</td>\n      <td>3</td>\n      <td>1.0</td>\n      <td>1.0</td>\n      <td>110</td>\n      <td>Tijuca</td>\n      <td>750000</td>\n      <td>6818.18</td>\n    </tr>\n    <tr>\n      <th>1983</th>\n      <td>950</td>\n      <td>3</td>\n      <td>1.0</td>\n      <td>1.0</td>\n      <td>105</td>\n      <td>Tijuca</td>\n      <td>730000</td>\n      <td>6952.38</td>\n    </tr>\n    <tr>\n      <th>1984</th>\n      <td>970</td>\n      <td>3</td>\n      <td>1.0</td>\n      <td>1.0</td>\n      <td>110</td>\n      <td>Tijuca</td>\n      <td>650000</td>\n      <td>5909.09</td>\n    </tr>\n    <tr>\n      <th>1985</th>\n      <td>1336</td>\n      <td>3</td>\n      <td>2.0</td>\n      <td>1.0</td>\n      <td>120</td>\n      <td>Tijuca</td>\n      <td>850000</td>\n      <td>7083.33</td>\n    </tr>\n    <tr>\n      <th>1986</th>\n      <td>900</td>\n      <td>3</td>\n      <td>1.0</td>\n      <td>1.0</td>\n      <td>90</td>\n      <td>Tijuca</td>\n      <td>860000</td>\n      <td>9555.56</td>\n    </tr>\n    <tr>\n      <th>1987</th>\n      <td>880</td>\n      <td>3</td>\n      <td>1.0</td>\n      <td>1.0</td>\n      <td>100</td>\n      <td>Tijuca</td>\n      <td>800000</td>\n      <td>8000.00</td>\n    </tr>\n    <tr>\n      <th>1988</th>\n      <td>870</td>\n      <td>3</td>\n      <td>1.0</td>\n      <td>1.0</td>\n      <td>100</td>\n      <td>Tijuca</td>\n      <td>580000</td>\n      <td>5800.00</td>\n    </tr>\n    <tr>\n      <th>1989</th>\n      <td>400</td>\n      <td>3</td>\n      <td>1.0</td>\n      <td>1.0</td>\n      <td>92</td>\n      <td>Tijuca</td>\n      <td>480000</td>\n      <td>5217.39</td>\n    </tr>\n    <tr>\n      <th>1990</th>\n      <td>686</td>\n      <td>3</td>\n      <td>0.0</td>\n      <td>1.0</td>\n      <td>105</td>\n      <td>Tijuca</td>\n      <td>490000</td>\n      <td>4666.67</td>\n    </tr>\n    <tr>\n      <th>1991</th>\n      <td>450</td>\n      <td>3</td>\n      <td>1.0</td>\n      <td>1.0</td>\n      <td>72</td>\n      <td>Tijuca</td>\n      <td>435000</td>\n      <td>6041.67</td>\n    </tr>\n    <tr>\n      <th>1992</th>\n      <td>1080</td>\n      <td>3</td>\n      <td>1.0</td>\n      <td>1.0</td>\n      <td>80</td>\n      <td>Tijuca</td>\n      <td>680000</td>\n      <td>8500.00</td>\n    </tr>\n    <tr>\n      <th>1993</th>\n      <td>750</td>\n      <td>3</td>\n      <td>0.0</td>\n      <td>1.0</td>\n      <td>82</td>\n      <td>Tijuca</td>\n      <td>650000</td>\n      <td>7926.83</td>\n    </tr>\n    <tr>\n      <th>1994</th>\n      <td>700</td>\n      <td>3</td>\n      <td>1.0</td>\n      <td>1.0</td>\n      <td>100</td>\n      <td>Tijuca</td>\n      <td>629900</td>\n      <td>6299.00</td>\n    </tr>\n    <tr>\n      <th>1995</th>\n      <td>1850</td>\n      <td>3</td>\n      <td>1.0</td>\n      <td>2.0</td>\n      <td>166</td>\n      <td>Tijuca</td>\n      <td>1600000</td>\n      <td>9638.55</td>\n    </tr>\n    <tr>\n      <th>1996</th>\n      <td>800</td>\n      <td>3</td>\n      <td>1.0</td>\n      <td>1.0</td>\n      <td>107</td>\n      <td>Tijuca</td>\n      <td>540000</td>\n      <td>5046.73</td>\n    </tr>\n  </tbody>\n</table>\n<p>1997 rows × 8 columns</p>\n</div>",
            "text/plain": "      condominio  quartos  suites  vagas  area    bairro    preco       pm2\n0            350        1     0.0    1.0    21  Botafogo   340000  16190.48\n1            800        1     0.0    1.0    64  Botafogo   770000  12031.25\n2            674        1     0.0    1.0    61  Botafogo   600000   9836.07\n3            700        1     1.0    1.0    70  Botafogo   700000  10000.00\n4            440        1     0.0    1.0    44  Botafogo   515000  11704.55\n5            917        1     1.0    1.0    60  Botafogo   630000  10500.00\n6            850        1     1.0    1.0    65  Botafogo   740000  11384.62\n7            350        1     1.0    1.0    43  Botafogo   570000  13255.81\n8            440        1     1.0    1.0    26  Botafogo   430000  16538.46\n9            510        1     1.0    1.0    42  Botafogo   500000  11904.76\n10           200        1     0.0    1.0    35  Botafogo   500000  14285.71\n11           552        1     1.0    1.0    67  Botafogo   790000  11791.04\n12           495        1     1.0    1.0    54  Botafogo   515000   9537.04\n13           340        1     1.0    1.0    40  Botafogo   410000  10250.00\n14           800        1     1.0    1.0    60  Botafogo   625000  10416.67\n15           530        1     0.0    1.0    40  Botafogo   360000   9000.00\n16           500        1     0.0    1.0    47  Botafogo   670000  14255.32\n17           600        1     1.0    1.0    45  Botafogo   500000  11111.11\n18           465        1     0.0    1.0    50  Botafogo   570000  11400.00\n19          1400        1     1.0    1.0    50  Botafogo   570000  11400.00\n20           700        1     1.0    1.0    58  Botafogo   630000  10862.07\n21           250        1     0.0    1.0    40  Botafogo   400000  10000.00\n22          1000        1     1.0    1.0    54  Botafogo   750000  13888.89\n23           280        1     0.0    1.0    65  Botafogo   578000   8892.31\n24           481        1     1.0    1.0    28  Botafogo   350000  12500.00\n25           150        1     0.0    1.0    40  Botafogo   130000   3250.00\n26          1071        1     1.0    1.0    44  Botafogo   597000  13568.18\n27           750        2     1.0    1.0    70  Botafogo   995000  14214.29\n28           992        2     1.0    1.0   105  Botafogo  1150000  10952.38\n29           990        2     1.0    1.0   100  Botafogo  1200000  12000.00\n...          ...      ...     ...    ...   ...       ...      ...       ...\n1967         600        3     1.0    1.0    99    Tijuca   780000   7878.79\n1968         780        3     1.0    1.0   120    Tijuca   780000   6500.00\n1969        1068        3     1.0    1.0    95    Tijuca   795000   8368.42\n1970         900        3     1.0    1.0    92    Tijuca   680000   7391.30\n1971         480        3     1.0    3.0   142    Tijuca   600000   4225.35\n1972         588        3     1.0    1.0    98    Tijuca  1100000  11224.49\n1973         210        3     1.0    1.0    95    Tijuca   440000   4631.58\n1974        1370        3     1.0    2.0   130    Tijuca  1050000   8076.92\n1975         500        3     1.0    1.0   102    Tijuca   955000   9362.75\n1976         670        3     2.0    1.0   139    Tijuca   878000   6316.55\n1977         730        3     0.0    1.0    90    Tijuca   550000   6111.11\n1978        1000        3     1.0    2.0   125    Tijuca   825000   6600.00\n1979        1050        3     1.0    2.0    95    Tijuca   899000   9463.16\n1980        1100        3     1.0    2.0   110    Tijuca   850000   7727.27\n1981         850        3     1.0    2.0   118    Tijuca   850000   7203.39\n1982        1100        3     1.0    1.0   110    Tijuca   750000   6818.18\n1983         950        3     1.0    1.0   105    Tijuca   730000   6952.38\n1984         970        3     1.0    1.0   110    Tijuca   650000   5909.09\n1985        1336        3     2.0    1.0   120    Tijuca   850000   7083.33\n1986         900        3     1.0    1.0    90    Tijuca   860000   9555.56\n1987         880        3     1.0    1.0   100    Tijuca   800000   8000.00\n1988         870        3     1.0    1.0   100    Tijuca   580000   5800.00\n1989         400        3     1.0    1.0    92    Tijuca   480000   5217.39\n1990         686        3     0.0    1.0   105    Tijuca   490000   4666.67\n1991         450        3     1.0    1.0    72    Tijuca   435000   6041.67\n1992        1080        3     1.0    1.0    80    Tijuca   680000   8500.00\n1993         750        3     0.0    1.0    82    Tijuca   650000   7926.83\n1994         700        3     1.0    1.0   100    Tijuca   629900   6299.00\n1995        1850        3     1.0    2.0   166    Tijuca  1600000   9638.55\n1996         800        3     1.0    1.0   107    Tijuca   540000   5046.73\n\n[1997 rows x 8 columns]"
          },
          "metadata": {}
        }
      ]
    },
    {
      "metadata": {
        "trusted": true
      },
      "cell_type": "code",
      "source": "df.head()",
      "execution_count": 22,
      "outputs": [
        {
          "output_type": "execute_result",
          "execution_count": 22,
          "data": {
            "text/html": "<div>\n<style scoped>\n    .dataframe tbody tr th:only-of-type {\n        vertical-align: middle;\n    }\n\n    .dataframe tbody tr th {\n        vertical-align: top;\n    }\n\n    .dataframe thead th {\n        text-align: right;\n    }\n</style>\n<table border=\"1\" class=\"dataframe\">\n  <thead>\n    <tr style=\"text-align: right;\">\n      <th></th>\n      <th>condominio</th>\n      <th>quartos</th>\n      <th>suites</th>\n      <th>vagas</th>\n      <th>area</th>\n      <th>bairro</th>\n      <th>preco</th>\n      <th>pm2</th>\n    </tr>\n  </thead>\n  <tbody>\n    <tr>\n      <th>0</th>\n      <td>350</td>\n      <td>1</td>\n      <td>0.0</td>\n      <td>1.0</td>\n      <td>21</td>\n      <td>Botafogo</td>\n      <td>340000</td>\n      <td>16190.48</td>\n    </tr>\n    <tr>\n      <th>1</th>\n      <td>800</td>\n      <td>1</td>\n      <td>0.0</td>\n      <td>1.0</td>\n      <td>64</td>\n      <td>Botafogo</td>\n      <td>770000</td>\n      <td>12031.25</td>\n    </tr>\n    <tr>\n      <th>2</th>\n      <td>674</td>\n      <td>1</td>\n      <td>0.0</td>\n      <td>1.0</td>\n      <td>61</td>\n      <td>Botafogo</td>\n      <td>600000</td>\n      <td>9836.07</td>\n    </tr>\n    <tr>\n      <th>3</th>\n      <td>700</td>\n      <td>1</td>\n      <td>1.0</td>\n      <td>1.0</td>\n      <td>70</td>\n      <td>Botafogo</td>\n      <td>700000</td>\n      <td>10000.00</td>\n    </tr>\n    <tr>\n      <th>4</th>\n      <td>440</td>\n      <td>1</td>\n      <td>0.0</td>\n      <td>1.0</td>\n      <td>44</td>\n      <td>Botafogo</td>\n      <td>515000</td>\n      <td>11704.55</td>\n    </tr>\n  </tbody>\n</table>\n</div>",
            "text/plain": "   condominio  quartos  suites  vagas  area    bairro   preco       pm2\n0         350        1     0.0    1.0    21  Botafogo  340000  16190.48\n1         800        1     0.0    1.0    64  Botafogo  770000  12031.25\n2         674        1     0.0    1.0    61  Botafogo  600000   9836.07\n3         700        1     1.0    1.0    70  Botafogo  700000  10000.00\n4         440        1     0.0    1.0    44  Botafogo  515000  11704.55"
          },
          "metadata": {}
        }
      ]
    },
    {
      "metadata": {
        "trusted": true
      },
      "cell_type": "code",
      "source": "df.head(10)",
      "execution_count": 6,
      "outputs": [
        {
          "output_type": "execute_result",
          "execution_count": 6,
          "data": {
            "text/html": "<div>\n<style scoped>\n    .dataframe tbody tr th:only-of-type {\n        vertical-align: middle;\n    }\n\n    .dataframe tbody tr th {\n        vertical-align: top;\n    }\n\n    .dataframe thead th {\n        text-align: right;\n    }\n</style>\n<table border=\"1\" class=\"dataframe\">\n  <thead>\n    <tr style=\"text-align: right;\">\n      <th></th>\n      <th>condominio</th>\n      <th>quartos</th>\n      <th>suites</th>\n      <th>vagas</th>\n      <th>area</th>\n      <th>bairro</th>\n      <th>preco</th>\n      <th>pm2</th>\n    </tr>\n  </thead>\n  <tbody>\n    <tr>\n      <th>0</th>\n      <td>350</td>\n      <td>1</td>\n      <td>0.0</td>\n      <td>1.0</td>\n      <td>21</td>\n      <td>Botafogo</td>\n      <td>340000</td>\n      <td>16190.48</td>\n    </tr>\n    <tr>\n      <th>1</th>\n      <td>800</td>\n      <td>1</td>\n      <td>0.0</td>\n      <td>1.0</td>\n      <td>64</td>\n      <td>Botafogo</td>\n      <td>770000</td>\n      <td>12031.25</td>\n    </tr>\n    <tr>\n      <th>2</th>\n      <td>674</td>\n      <td>1</td>\n      <td>0.0</td>\n      <td>1.0</td>\n      <td>61</td>\n      <td>Botafogo</td>\n      <td>600000</td>\n      <td>9836.07</td>\n    </tr>\n    <tr>\n      <th>3</th>\n      <td>700</td>\n      <td>1</td>\n      <td>1.0</td>\n      <td>1.0</td>\n      <td>70</td>\n      <td>Botafogo</td>\n      <td>700000</td>\n      <td>10000.00</td>\n    </tr>\n    <tr>\n      <th>4</th>\n      <td>440</td>\n      <td>1</td>\n      <td>0.0</td>\n      <td>1.0</td>\n      <td>44</td>\n      <td>Botafogo</td>\n      <td>515000</td>\n      <td>11704.55</td>\n    </tr>\n    <tr>\n      <th>5</th>\n      <td>917</td>\n      <td>1</td>\n      <td>1.0</td>\n      <td>1.0</td>\n      <td>60</td>\n      <td>Botafogo</td>\n      <td>630000</td>\n      <td>10500.00</td>\n    </tr>\n    <tr>\n      <th>6</th>\n      <td>850</td>\n      <td>1</td>\n      <td>1.0</td>\n      <td>1.0</td>\n      <td>65</td>\n      <td>Botafogo</td>\n      <td>740000</td>\n      <td>11384.62</td>\n    </tr>\n    <tr>\n      <th>7</th>\n      <td>350</td>\n      <td>1</td>\n      <td>1.0</td>\n      <td>1.0</td>\n      <td>43</td>\n      <td>Botafogo</td>\n      <td>570000</td>\n      <td>13255.81</td>\n    </tr>\n    <tr>\n      <th>8</th>\n      <td>440</td>\n      <td>1</td>\n      <td>1.0</td>\n      <td>1.0</td>\n      <td>26</td>\n      <td>Botafogo</td>\n      <td>430000</td>\n      <td>16538.46</td>\n    </tr>\n    <tr>\n      <th>9</th>\n      <td>510</td>\n      <td>1</td>\n      <td>1.0</td>\n      <td>1.0</td>\n      <td>42</td>\n      <td>Botafogo</td>\n      <td>500000</td>\n      <td>11904.76</td>\n    </tr>\n  </tbody>\n</table>\n</div>",
            "text/plain": "   condominio  quartos  suites  vagas  area    bairro   preco       pm2\n0         350        1     0.0    1.0    21  Botafogo  340000  16190.48\n1         800        1     0.0    1.0    64  Botafogo  770000  12031.25\n2         674        1     0.0    1.0    61  Botafogo  600000   9836.07\n3         700        1     1.0    1.0    70  Botafogo  700000  10000.00\n4         440        1     0.0    1.0    44  Botafogo  515000  11704.55\n5         917        1     1.0    1.0    60  Botafogo  630000  10500.00\n6         850        1     1.0    1.0    65  Botafogo  740000  11384.62\n7         350        1     1.0    1.0    43  Botafogo  570000  13255.81\n8         440        1     1.0    1.0    26  Botafogo  430000  16538.46\n9         510        1     1.0    1.0    42  Botafogo  500000  11904.76"
          },
          "metadata": {}
        }
      ]
    },
    {
      "metadata": {
        "trusted": true
      },
      "cell_type": "code",
      "source": "df.tail()",
      "execution_count": 23,
      "outputs": [
        {
          "output_type": "execute_result",
          "execution_count": 23,
          "data": {
            "text/html": "<div>\n<style scoped>\n    .dataframe tbody tr th:only-of-type {\n        vertical-align: middle;\n    }\n\n    .dataframe tbody tr th {\n        vertical-align: top;\n    }\n\n    .dataframe thead th {\n        text-align: right;\n    }\n</style>\n<table border=\"1\" class=\"dataframe\">\n  <thead>\n    <tr style=\"text-align: right;\">\n      <th></th>\n      <th>condominio</th>\n      <th>quartos</th>\n      <th>suites</th>\n      <th>vagas</th>\n      <th>area</th>\n      <th>bairro</th>\n      <th>preco</th>\n      <th>pm2</th>\n    </tr>\n  </thead>\n  <tbody>\n    <tr>\n      <th>1992</th>\n      <td>1080</td>\n      <td>3</td>\n      <td>1.0</td>\n      <td>1.0</td>\n      <td>80</td>\n      <td>Tijuca</td>\n      <td>680000</td>\n      <td>8500.00</td>\n    </tr>\n    <tr>\n      <th>1993</th>\n      <td>750</td>\n      <td>3</td>\n      <td>0.0</td>\n      <td>1.0</td>\n      <td>82</td>\n      <td>Tijuca</td>\n      <td>650000</td>\n      <td>7926.83</td>\n    </tr>\n    <tr>\n      <th>1994</th>\n      <td>700</td>\n      <td>3</td>\n      <td>1.0</td>\n      <td>1.0</td>\n      <td>100</td>\n      <td>Tijuca</td>\n      <td>629900</td>\n      <td>6299.00</td>\n    </tr>\n    <tr>\n      <th>1995</th>\n      <td>1850</td>\n      <td>3</td>\n      <td>1.0</td>\n      <td>2.0</td>\n      <td>166</td>\n      <td>Tijuca</td>\n      <td>1600000</td>\n      <td>9638.55</td>\n    </tr>\n    <tr>\n      <th>1996</th>\n      <td>800</td>\n      <td>3</td>\n      <td>1.0</td>\n      <td>1.0</td>\n      <td>107</td>\n      <td>Tijuca</td>\n      <td>540000</td>\n      <td>5046.73</td>\n    </tr>\n  </tbody>\n</table>\n</div>",
            "text/plain": "      condominio  quartos  suites  vagas  area  bairro    preco      pm2\n1992        1080        3     1.0    1.0    80  Tijuca   680000  8500.00\n1993         750        3     0.0    1.0    82  Tijuca   650000  7926.83\n1994         700        3     1.0    1.0   100  Tijuca   629900  6299.00\n1995        1850        3     1.0    2.0   166  Tijuca  1600000  9638.55\n1996         800        3     1.0    1.0   107  Tijuca   540000  5046.73"
          },
          "metadata": {}
        }
      ]
    },
    {
      "metadata": {
        "trusted": true
      },
      "cell_type": "code",
      "source": "df[\"bairro\"].unique()",
      "execution_count": 8,
      "outputs": [
        {
          "output_type": "execute_result",
          "execution_count": 8,
          "data": {
            "text/plain": "array(['Botafogo', 'Copacabana', 'Gávea', 'Grajaú', 'Ipanema', 'Leblon',\n       'Tijuca'], dtype=object)"
          },
          "metadata": {}
        }
      ]
    },
    {
      "metadata": {
        "trusted": true
      },
      "cell_type": "code",
      "source": "df[\"bairro\"].value_counts()",
      "execution_count": 9,
      "outputs": [
        {
          "output_type": "execute_result",
          "execution_count": 9,
          "data": {
            "text/plain": "Copacabana    346\nTijuca        341\nBotafogo      307\nIpanema       281\nLeblon        280\nGrajaú        237\nGávea         205\nName: bairro, dtype: int64"
          },
          "metadata": {}
        }
      ]
    },
    {
      "metadata": {
        "trusted": true
      },
      "cell_type": "code",
      "source": "df[\"bairro\"].value_counts(normalize=True)",
      "execution_count": 12,
      "outputs": [
        {
          "output_type": "execute_result",
          "execution_count": 12,
          "data": {
            "text/plain": "Copacabana    0.173260\nTijuca        0.170756\nBotafogo      0.153731\nIpanema       0.140711\nLeblon        0.140210\nGrajaú        0.118678\nGávea         0.102654\nName: bairro, dtype: float64"
          },
          "metadata": {}
        }
      ]
    },
    {
      "metadata": {
        "trusted": true
      },
      "cell_type": "code",
      "source": "df.groupby(\"bairro\").mean()",
      "execution_count": 11,
      "outputs": [
        {
          "output_type": "execute_result",
          "execution_count": 11,
          "data": {
            "text/html": "<div>\n<style scoped>\n    .dataframe tbody tr th:only-of-type {\n        vertical-align: middle;\n    }\n\n    .dataframe tbody tr th {\n        vertical-align: top;\n    }\n\n    .dataframe thead th {\n        text-align: right;\n    }\n</style>\n<table border=\"1\" class=\"dataframe\">\n  <thead>\n    <tr style=\"text-align: right;\">\n      <th></th>\n      <th>condominio</th>\n      <th>quartos</th>\n      <th>suites</th>\n      <th>vagas</th>\n      <th>area</th>\n      <th>preco</th>\n      <th>pm2</th>\n    </tr>\n    <tr>\n      <th>bairro</th>\n      <th></th>\n      <th></th>\n      <th></th>\n      <th></th>\n      <th></th>\n      <th></th>\n      <th></th>\n    </tr>\n  </thead>\n  <tbody>\n    <tr>\n      <th>Botafogo</th>\n      <td>914.475570</td>\n      <td>2.107492</td>\n      <td>1.048860</td>\n      <td>1.159609</td>\n      <td>83.837134</td>\n      <td>1.010614e+06</td>\n      <td>12034.486189</td>\n    </tr>\n    <tr>\n      <th>Copacabana</th>\n      <td>991.861272</td>\n      <td>2.101156</td>\n      <td>1.034682</td>\n      <td>1.080925</td>\n      <td>101.855491</td>\n      <td>1.216344e+06</td>\n      <td>11965.298699</td>\n    </tr>\n    <tr>\n      <th>Grajaú</th>\n      <td>619.940928</td>\n      <td>2.097046</td>\n      <td>0.970464</td>\n      <td>1.130802</td>\n      <td>79.949367</td>\n      <td>4.788869e+05</td>\n      <td>6145.624473</td>\n    </tr>\n    <tr>\n      <th>Gávea</th>\n      <td>985.234146</td>\n      <td>2.058537</td>\n      <td>1.029268</td>\n      <td>1.200000</td>\n      <td>88.497561</td>\n      <td>1.454571e+06</td>\n      <td>16511.582780</td>\n    </tr>\n    <tr>\n      <th>Ipanema</th>\n      <td>1357.120996</td>\n      <td>2.181495</td>\n      <td>1.192171</td>\n      <td>1.220641</td>\n      <td>100.615658</td>\n      <td>2.033096e+06</td>\n      <td>19738.407794</td>\n    </tr>\n    <tr>\n      <th>Leblon</th>\n      <td>1260.010714</td>\n      <td>2.207143</td>\n      <td>1.064286</td>\n      <td>1.164286</td>\n      <td>91.832143</td>\n      <td>1.946193e+06</td>\n      <td>20761.351036</td>\n    </tr>\n    <tr>\n      <th>Tijuca</th>\n      <td>681.175953</td>\n      <td>2.131965</td>\n      <td>0.944282</td>\n      <td>1.143695</td>\n      <td>81.457478</td>\n      <td>5.750780e+05</td>\n      <td>7149.804985</td>\n    </tr>\n  </tbody>\n</table>\n</div>",
            "text/plain": "             condominio   quartos    suites     vagas        area  \\\nbairro                                                              \nBotafogo     914.475570  2.107492  1.048860  1.159609   83.837134   \nCopacabana   991.861272  2.101156  1.034682  1.080925  101.855491   \nGrajaú       619.940928  2.097046  0.970464  1.130802   79.949367   \nGávea        985.234146  2.058537  1.029268  1.200000   88.497561   \nIpanema     1357.120996  2.181495  1.192171  1.220641  100.615658   \nLeblon      1260.010714  2.207143  1.064286  1.164286   91.832143   \nTijuca       681.175953  2.131965  0.944282  1.143695   81.457478   \n\n                   preco           pm2  \nbairro                                  \nBotafogo    1.010614e+06  12034.486189  \nCopacabana  1.216344e+06  11965.298699  \nGrajaú      4.788869e+05   6145.624473  \nGávea       1.454571e+06  16511.582780  \nIpanema     2.033096e+06  19738.407794  \nLeblon      1.946193e+06  20761.351036  \nTijuca      5.750780e+05   7149.804985  "
          },
          "metadata": {}
        }
      ]
    },
    {
      "metadata": {
        "trusted": true
      },
      "cell_type": "code",
      "source": "df.groupby(\"bairro\").mean()[\"pm2\"].sort_values()",
      "execution_count": 14,
      "outputs": [
        {
          "output_type": "execute_result",
          "execution_count": 14,
          "data": {
            "text/plain": "bairro\nGrajaú         6145.624473\nTijuca         7149.804985\nCopacabana    11965.298699\nBotafogo      12034.486189\nGávea         16511.582780\nIpanema       19738.407794\nLeblon        20761.351036\nName: pm2, dtype: float64"
          },
          "metadata": {}
        }
      ]
    },
    {
      "metadata": {
        "trusted": true
      },
      "cell_type": "code",
      "source": "def truncar(bairro):\n    return bairro[:3]\n\ndf[\"bairro\"].apply(truncar)\n\n",
      "execution_count": 18,
      "outputs": [
        {
          "output_type": "execute_result",
          "execution_count": 18,
          "data": {
            "text/plain": "0       Bot\n1       Bot\n2       Bot\n3       Bot\n4       Bot\n5       Bot\n6       Bot\n7       Bot\n8       Bot\n9       Bot\n10      Bot\n11      Bot\n12      Bot\n13      Bot\n14      Bot\n15      Bot\n16      Bot\n17      Bot\n18      Bot\n19      Bot\n20      Bot\n21      Bot\n22      Bot\n23      Bot\n24      Bot\n25      Bot\n26      Bot\n27      Bot\n28      Bot\n29      Bot\n       ... \n1967    Tij\n1968    Tij\n1969    Tij\n1970    Tij\n1971    Tij\n1972    Tij\n1973    Tij\n1974    Tij\n1975    Tij\n1976    Tij\n1977    Tij\n1978    Tij\n1979    Tij\n1980    Tij\n1981    Tij\n1982    Tij\n1983    Tij\n1984    Tij\n1985    Tij\n1986    Tij\n1987    Tij\n1988    Tij\n1989    Tij\n1990    Tij\n1991    Tij\n1992    Tij\n1993    Tij\n1994    Tij\n1995    Tij\n1996    Tij\nName: bairro, Length: 1997, dtype: object"
          },
          "metadata": {}
        }
      ]
    },
    {
      "metadata": {
        "trusted": true
      },
      "cell_type": "code",
      "source": "df[\"bairro\"].apply(lambda x: x[:3])",
      "execution_count": 20,
      "outputs": [
        {
          "output_type": "execute_result",
          "execution_count": 20,
          "data": {
            "text/plain": "0       Bot\n1       Bot\n2       Bot\n3       Bot\n4       Bot\n5       Bot\n6       Bot\n7       Bot\n8       Bot\n9       Bot\n10      Bot\n11      Bot\n12      Bot\n13      Bot\n14      Bot\n15      Bot\n16      Bot\n17      Bot\n18      Bot\n19      Bot\n20      Bot\n21      Bot\n22      Bot\n23      Bot\n24      Bot\n25      Bot\n26      Bot\n27      Bot\n28      Bot\n29      Bot\n       ... \n1967    Tij\n1968    Tij\n1969    Tij\n1970    Tij\n1971    Tij\n1972    Tij\n1973    Tij\n1974    Tij\n1975    Tij\n1976    Tij\n1977    Tij\n1978    Tij\n1979    Tij\n1980    Tij\n1981    Tij\n1982    Tij\n1983    Tij\n1984    Tij\n1985    Tij\n1986    Tij\n1987    Tij\n1988    Tij\n1989    Tij\n1990    Tij\n1991    Tij\n1992    Tij\n1993    Tij\n1994    Tij\n1995    Tij\n1996    Tij\nName: bairro, Length: 1997, dtype: object"
          },
          "metadata": {}
        }
      ]
    },
    {
      "metadata": {
        "trusted": true
      },
      "cell_type": "code",
      "source": "print(\"Deseja armazenar ?\")\nprint(\"Tipo 1\")\nprint(\"Tipo 2\")\ntipo = int(input(\"Informe a opção: \"))\nif(tipo == 1):nome='teste'",
      "execution_count": 24,
      "outputs": [
        {
          "output_type": "stream",
          "text": "Deseja armazenar ?\nTipo 1\nTipo 2\nInforme a opção: 1\n",
          "name": "stdout"
        }
      ]
    },
    {
      "metadata": {
        "trusted": true
      },
      "cell_type": "code",
      "source": "",
      "execution_count": null,
      "outputs": []
    }
  ],
  "metadata": {
    "kernelspec": {
      "name": "python36",
      "display_name": "Python 3.6",
      "language": "python"
    },
    "celltoolbar": "Tags",
    "language_info": {
      "mimetype": "text/x-python",
      "nbconvert_exporter": "python",
      "name": "python",
      "pygments_lexer": "ipython3",
      "version": "3.6.6",
      "file_extension": ".py",
      "codemirror_mode": {
        "version": 3,
        "name": "ipython"
      }
    }
  },
  "nbformat": 4,
  "nbformat_minor": 2
}